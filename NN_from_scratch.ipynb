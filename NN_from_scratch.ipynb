{
  "cells": [
    {
      "cell_type": "markdown",
      "metadata": {
        "id": "-wSR0C5z3yzH"
      },
      "source": [
        "# Overview :\n",
        "This is an implementation of a deep neural network from scratch to classify images from the Fashion MNIST dataset as either \"sneaker\" (label 1) or \"non-sneaker\" (label 0)."
      ]
    },
    {
      "cell_type": "code",
      "execution_count": 1,
      "metadata": {
        "id": "19x-lnp_2N8V"
      },
      "outputs": [],
      "source": [
        "import numpy as np\n",
        "import matplotlib.pyplot as plt\n",
        "from tensorflow.keras.datasets import fashion_mnist\n",
        "from sklearn.model_selection import train_test_split"
      ]
    },
    {
      "cell_type": "markdown",
      "metadata": {
        "id": "Ev8Nmg-447EI"
      },
      "source": [
        "# 1. Data Loading and Preprocessing\n"
      ]
    },
    {
      "cell_type": "code",
      "execution_count": 2,
      "metadata": {
        "colab": {
          "base_uri": "https://localhost:8080/"
        },
        "id": "FlrTmUAGclv9",
        "outputId": "db0818f6-7360-44bd-9f66-14280a572242"
      },
      "outputs": [
        {
          "name": "stdout",
          "output_type": "stream",
          "text": [
            "Downloading data from https://storage.googleapis.com/tensorflow/tf-keras-datasets/train-labels-idx1-ubyte.gz\n",
            "\u001b[1m29515/29515\u001b[0m \u001b[32m━━━━━━━━━━━━━━━━━━━━\u001b[0m\u001b[37m\u001b[0m \u001b[1m0s\u001b[0m 0us/step\n",
            "Downloading data from https://storage.googleapis.com/tensorflow/tf-keras-datasets/train-images-idx3-ubyte.gz\n",
            "\u001b[1m26421880/26421880\u001b[0m \u001b[32m━━━━━━━━━━━━━━━━━━━━\u001b[0m\u001b[37m\u001b[0m \u001b[1m1s\u001b[0m 0us/step\n",
            "Downloading data from https://storage.googleapis.com/tensorflow/tf-keras-datasets/t10k-labels-idx1-ubyte.gz\n",
            "\u001b[1m5148/5148\u001b[0m \u001b[32m━━━━━━━━━━━━━━━━━━━━\u001b[0m\u001b[37m\u001b[0m \u001b[1m0s\u001b[0m 1us/step\n",
            "Downloading data from https://storage.googleapis.com/tensorflow/tf-keras-datasets/t10k-images-idx3-ubyte.gz\n",
            "\u001b[1m4422102/4422102\u001b[0m \u001b[32m━━━━━━━━━━━━━━━━━━━━\u001b[0m\u001b[37m\u001b[0m \u001b[1m0s\u001b[0m 0us/step\n"
          ]
        }
      ],
      "source": [
        "(train_images, train_labels), _ = fashion_mnist.load_data()\n"
      ]
    },
    {
      "cell_type": "code",
      "execution_count": 3,
      "metadata": {
        "colab": {
          "base_uri": "https://localhost:8080/"
        },
        "id": "yAQfTJWJcxRv",
        "outputId": "8ed354cf-26f0-4f49-d3a6-31456d8d321e"
      },
      "outputs": [
        {
          "data": {
            "text/plain": [
              "((60000, 28, 28), (60000,))"
            ]
          },
          "execution_count": 3,
          "metadata": {},
          "output_type": "execute_result"
        }
      ],
      "source": [
        "train_images.shape, train_labels.shape"
      ]
    },
    {
      "cell_type": "markdown",
      "metadata": {
        "id": "beTb7vqKc8Ui"
      },
      "source": [
        "- train_images: Contains grayscale images of fashion items (shape: (60000, 28, 28)).\n",
        "- train_labels: Contains labels for each image (values from 0 to 9)."
      ]
    },
    {
      "cell_type": "markdown",
      "metadata": {
        "id": "ZrrFtlJVdFPf"
      },
      "source": [
        "### Creating a Binary Classification Dataset"
      ]
    },
    {
      "cell_type": "code",
      "execution_count": 4,
      "metadata": {
        "id": "GhRErPAVdbn-"
      },
      "outputs": [],
      "source": [
        "sneaker_indices = np.where(train_labels == 7)[0] # extract Sneaker Images\n",
        "non_sneaker_indices = np.where(train_labels != 7)[0] # extract non-Sneaker Images\n"
      ]
    },
    {
      "cell_type": "code",
      "execution_count": 5,
      "metadata": {
        "colab": {
          "base_uri": "https://localhost:8080/",
          "height": 259
        },
        "id": "_HfjaNU81Deq",
        "outputId": "bba83007-0c5b-45b0-e95b-6425e7d01c02"
      },
      "outputs": [
        {
          "data": {
            "image/png": "[encoded data removed]",
            "text/plain": [
              "<Figure size 500x500 with 2 Axes>"
            ]
          },
          "metadata": {},
          "output_type": "display_data"
        }
      ],
      "source": [
        "# Plotting the first sneaker image\n",
        "plt.figure(figsize=(5,5))\n",
        "plt.subplot(1, 2, 1)\n",
        "plt.imshow(train_images[sneaker_indices[0]])\n",
        "\n",
        "# Plotting the first non-sneaker image\n",
        "plt.subplot(1, 2, 2)\n",
        "plt.imshow(train_images[non_sneaker_indices[50]])\n",
        "plt.title('Non-Sneaker')\n",
        "\n",
        "plt.show()"
      ]
    },
    {
      "cell_type": "code",
      "execution_count": 6,
      "metadata": {
        "id": "qKo75o3GiJ0y"
      },
      "outputs": [],
      "source": [
        "non_sneaker_sample_indices = np.random.choice(non_sneaker_indices, size=sneaker_indices.shape[0], replace=False)\n",
        "balanced_indices = np.concatenate([sneaker_indices, non_sneaker_sample_indices])\n",
        "\n",
        "# Balanced Dataset\n",
        "X_balanced = train_images[balanced_indices]\n",
        "y_balanced = train_labels[balanced_indices]\n",
        "y_balanced = np.where(y_balanced == 7, 1, 0)\n"
      ]
    },
    {
      "cell_type": "markdown",
      "metadata": {
        "id": "ma9sijJ7iwnf"
      },
      "source": [
        "### Splitting into Training and Testing Sets"
      ]
    },
    {
      "cell_type": "code",
      "execution_count": 7,
      "metadata": {
        "id": "I-o8sWs5i5WY"
      },
      "outputs": [],
      "source": [
        "# Spliting dataset using sklearn\n",
        "X_train, X_test, y_train, y_test = train_test_split(\n",
        "    X_balanced,\n",
        "    y_balanced,\n",
        "    test_size=0.2,\n",
        "    random_state=42,\n",
        "    stratify=y_balanced,\n",
        ")\n"
      ]
    },
    {
      "cell_type": "code",
      "execution_count": 8,
      "metadata": {
        "colab": {
          "base_uri": "https://localhost:8080/"
        },
        "id": "bXAWbz2WjHhc",
        "outputId": "2cfdeb1a-f891-4f55-8bea-970901dd2613"
      },
      "outputs": [
        {
          "data": {
            "text/plain": [
              "((9600, 28, 28), (2400, 28, 28), (9600,), (2400,))"
            ]
          },
          "execution_count": 8,
          "metadata": {},
          "output_type": "execute_result"
        }
      ],
      "source": [
        "X_train.shape, X_test.shape, y_train.shape, y_test.shape"
      ]
    },
    {
      "cell_type": "code",
      "execution_count": 9,
      "metadata": {
        "id": "wpK7Hr2ancT0"
      },
      "outputs": [],
      "source": [
        "train_x_flatten = X_train.reshape(X_train.shape[0], -1).T  # Shape: (784, 9600)\n",
        "test_x_flatten = X_test.reshape(X_test.shape[0], -1).T     # Shape: (784, 2400)\n",
        "\n",
        "train_x = train_x_flatten / 255.0\n",
        "test_x = test_x_flatten / 255.0\n",
        "\n",
        "y_train = y_train.reshape(1, -1)  # Shape: (1, 9600)\n",
        "y_test = y_test.reshape(1, -1)    # Shape: (1, 2400)\n",
        "\n"
      ]
    },
    {
      "cell_type": "code",
      "execution_count": 13,
      "metadata": {
        "colab": {
          "base_uri": "https://localhost:8080/"
        },
        "id": "d7xC60BD0jHw",
        "outputId": "8712c906-90c3-4b45-bd5d-7fbc1cec59be"
      },
      "outputs": [
        {
          "data": {
            "text/plain": [
              "((784, 9600), (784, 2400))"
            ]
          },
          "execution_count": 13,
          "metadata": {},
          "output_type": "execute_result"
        }
      ],
      "source": [
        "train_x.shape, test_x.shape"
      ]
    },
    {
      "cell_type": "markdown",
      "metadata": {
        "id": "m_qVzvkD4-wz"
      },
      "source": [
        "# 2. Parameter initialization"
      ]
    },
    {
      "cell_type": "code",
      "execution_count": 14,
      "metadata": {
        "id": "szW3CHINvdul"
      },
      "outputs": [],
      "source": [
        "def initialize_parameters(layer_dims):\n",
        "    np.random.seed(3)\n",
        "    parameters = {}\n",
        "    L = len(layer_dims)\n",
        "\n",
        "    for l in range(1, L):\n",
        "        parameters[\"W\" + str(l)] = (\n",
        "            np.random.randn(layer_dims[l], layer_dims[l - 1]) * 0.01\n",
        "        )\n",
        "        parameters[\"b\" + str(l)] = np.zeros((layer_dims[l], 1))\n",
        "\n",
        "    return parameters\n"
      ]
    },
    {
      "cell_type": "markdown",
      "metadata": {
        "id": "IlC4BUuFy6xa"
      },
      "source": [
        "`layer_dims = [784, 5, 1]`\n",
        "- `W1`: Weight matrix of shape (5, 784), small random values.\n",
        "- `b1`: Bias vector of shape (5, 1), initialized to zeros.\n",
        "- `W2`: Weight matrix of shape (1, 5), small random values.\n",
        "- `b2`: Bias scalar, initialized to zero."
      ]
    },
    {
      "cell_type": "markdown",
      "metadata": {
        "id": "1nVprhLM4-30"
      },
      "source": [
        "# 3. Model Creation"
      ]
    },
    {
      "cell_type": "markdown",
      "metadata": {
        "id": "TGc-M3XX8xa-"
      },
      "source": [
        "#### Linear forward step"
      ]
    },
    {
      "cell_type": "code",
      "execution_count": null,
      "metadata": {
        "id": "cCMTRtNDzgLs"
      },
      "outputs": [],
      "source": [
        "def linear_forward(A_prev, W, b):\n",
        "    Z = W.dot(A_prev) + b\n",
        "    cache = (A_prev, W, b)\n",
        "    return Z, cache\n"
      ]
    },
    {
      "cell_type": "markdown",
      "metadata": {
        "id": "1-SItSb48kKj"
      },
      "source": [
        "- `A_prev`: Activations from the previous layer.\n",
        "- `W`: Weights matrix.\n",
        "- `b`: Bias vector.\n",
        "- `Z`: Linear component before activation.\n"
      ]
    },
    {
      "cell_type": "markdown",
      "metadata": {
        "id": "_5zasb038_Is"
      },
      "source": [
        "#### Activation Functions"
      ]
    },
    {
      "cell_type": "code",
      "execution_count": null,
      "metadata": {
        "id": "V2LQ-WfV8sLO"
      },
      "outputs": [],
      "source": [
        "def relu(Z):\n",
        "    A = np.maximum(0, Z)\n",
        "    cache = Z\n",
        "    return A, cache\n",
        "\n",
        "def sigmoid(Z):\n",
        "    A = 1 / (1 + np.exp(-Z))\n",
        "    cache = Z\n",
        "    return A, cache\n"
      ]
    },
    {
      "cell_type": "code",
      "execution_count": null,
      "metadata": {
        "id": "kdyGvZ1o9TwO"
      },
      "outputs": [],
      "source": [
        "def linear_activation_forward(A_prev, W, b, activation):\n",
        "    Z, linear_cache = linear_forward(A_prev, W, b)\n",
        "\n",
        "    if activation == \"relu\":\n",
        "        A, activation_cache = relu(Z)\n",
        "    elif activation == \"sigmoid\":\n",
        "        A, activation_cache = sigmoid(Z)\n",
        "\n",
        "    cache = (linear_cache, activation_cache)\n",
        "\n",
        "    return A, cache\n"
      ]
    },
    {
      "cell_type": "markdown",
      "metadata": {
        "id": "XdOCPXtJ9pIN"
      },
      "source": [
        "#### Forward Propagation through layers"
      ]
    },
    {
      "cell_type": "code",
      "execution_count": null,
      "metadata": {
        "id": "cntaw_0z9utO"
      },
      "outputs": [],
      "source": [
        "def L_model_forward(X, parameters):\n",
        "    caches = []\n",
        "    A = X\n",
        "    L = len(parameters) // 2\n",
        "\n",
        "    # Hidden layers with ReLU activation\n",
        "    for l in range(1, L):\n",
        "        A_prev = A\n",
        "        A, cache = linear_activation_forward(\n",
        "            A_prev, parameters[\"W\" + str(l)], parameters[\"b\" + str(l)], \"relu\"\n",
        "        )\n",
        "        caches.append(cache)\n",
        "\n",
        "    # Output layer with Sigmoid activation\n",
        "    AL, cache = linear_activation_forward(\n",
        "        A, parameters[\"W\" + str(L)], parameters[\"b\" + str(L)], \"sigmoid\"\n",
        "    )\n",
        "    caches.append(cache)\n",
        "\n",
        "    return AL, caches"
      ]
    },
    {
      "cell_type": "markdown",
      "metadata": {
        "id": "A6MP3kFc-ElJ"
      },
      "source": [
        "Simulation for NN with `[784, 5, 1]` layout:\n",
        "- Input `X`: Shape `(784, m)` where `m` is the number of examples.\n",
        "We take one example `(m = 1)` for simplicity.\n",
        "\n",
        "- Layer 1 :\n",
        "  - `A_prev(X)`: `Shape (784, 1)`.\n",
        "  - `W1`: `Shape (5, 784)`.\n",
        "  - `b1`: `Shape (5, 1)`.\n",
        "  - Compute `Z1` = `W1.dot(A_prev) + b1: Shape (5, 1)`.\n",
        "  - Apply ReLU: `A1 = relu(Z1): Shape (5, 1)`.\n",
        "\n",
        "- Layer 2:\n",
        "\n",
        "  - `A_prev(A1): Shape (5, 1)`.\n",
        "  - `W2: Shape (1, 5`).\n",
        "  - `b2: Scalar`.\n",
        "  - `Compute Z2 = W2.dot(A1) + b2: Shape (1, 1)`.\n",
        "  - Apply Sigmoid: `AL = sigmoid(Z2): Shape (1, 1)`.\n"
      ]
    },
    {
      "cell_type": "markdown",
      "metadata": {
        "id": "UwWPVsT9AhIJ"
      },
      "source": [
        "### Calculate Cost"
      ]
    },
    {
      "cell_type": "code",
      "execution_count": null,
      "metadata": {
        "id": "dh1qeDcbAyN3"
      },
      "outputs": [],
      "source": [
        "def compute_cost(AL, Y):\n",
        "    m = Y.shape[1]\n",
        "    cost = (\n",
        "        -1\n",
        "        / m\n",
        "        * np.sum(\n",
        "            np.multiply(Y, np.log(AL)) + np.multiply(1 - Y, np.log(1 - AL))\n",
        "        )\n",
        "    )\n",
        "    cost = np.squeeze(cost)\n",
        "    return cost\n"
      ]
    },
    {
      "cell_type": "markdown",
      "metadata": {
        "id": "1cuBmQNnA1ZL"
      },
      "source": [
        "- Suppose `AL = [[0.8]]` (model's prediction).\n",
        "- True label `Y = [[1]]`.\n",
        "\n",
        "  ```\n",
        "  cost = - (1/m) * [Y * log(AL) + (1 - Y) * log(1 - AL)]\n",
        "       = - [1 * log(0.8) + 0 * log(0.2)]\n",
        "       = - log(0.8)\n",
        "       ≈ 0.223\n",
        "  ```\n"
      ]
    },
    {
      "cell_type": "markdown",
      "metadata": {
        "id": "l3wcbYaCBXbt"
      },
      "source": [
        "### Backward Propagation"
      ]
    },
    {
      "cell_type": "markdown",
      "metadata": {
        "id": "vBysAhDFB7gq"
      },
      "source": [
        "### Activation Function Backward"
      ]
    },
    {
      "cell_type": "markdown",
      "metadata": {
        "id": "-QzVQxnDBp5G"
      },
      "source": [
        "#### Linear Activation backward"
      ]
    },
    {
      "cell_type": "markdown",
      "metadata": {
        "id": "cK0O1tGI4_ui"
      },
      "source": [
        "## 4. Model Training"
      ]
    },
    {
      "cell_type": "markdown",
      "metadata": {
        "id": "6W2gL_6p4--Q"
      },
      "source": [
        "## 5. Model Evaluation"
      ]
    },
    {
      "cell_type": "markdown",
      "metadata": {
        "id": "kRt38GfS4_6Z"
      },
      "source": []
    }
  ],
  "metadata": {
    "colab": {
      "provenance": []
    },
    "kernelspec": {
      "display_name": "Python 3",
      "name": "python3"
    },
    "language_info": {
      "name": "python"
    }
  },
  "nbformat": 4,
  "nbformat_minor": 0
}
