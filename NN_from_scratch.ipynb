{
  "cells": [
    {
      "cell_type": "markdown",
      "metadata": {
        "id": "-wSR0C5z3yzH"
      },
      "source": [
        "# Overview :\n",
        "This is an implementation of a deep neural network from scratch to classify images from the Fashion MNIST dataset as either \"sneaker\" (label 1) or \"non-sneaker\" (label 0)."
      ]
    },
    {
      "cell_type": "markdown",
      "metadata": {
        "id": "jog5c__7IXHY"
      },
      "source": [
        "### Import the Libraries :"
      ]
    },
    {
      "cell_type": "code",
      "execution_count": 79,
      "metadata": {
        "id": "19x-lnp_2N8V"
      },
      "outputs": [],
      "source": [
        "import numpy as np\n",
        "import matplotlib.pyplot as plt\n",
        "from tensorflow.keras.datasets import fashion_mnist\n",
        "from sklearn.model_selection import train_test_split"
      ]
    },
    {
      "cell_type": "markdown",
      "metadata": {
        "id": "Ev8Nmg-447EI"
      },
      "source": [
        "# 1. Data Loading and Preprocessing\n"
      ]
    },
    {
      "cell_type": "code",
      "execution_count": 80,
      "metadata": {
        "id": "FlrTmUAGclv9"
      },
      "outputs": [],
      "source": [
        "(train_images, train_labels), _ = fashion_mnist.load_data()\n"
      ]
    },
    {
      "cell_type": "code",
      "execution_count": 81,
      "metadata": {
        "colab": {
          "base_uri": "https://localhost:8080/"
        },
        "id": "yAQfTJWJcxRv",
        "outputId": "481ee935-19a4-420b-a5f7-1e2631c47c05"
      },
      "outputs": [
        {
          "data": {
            "text/plain": [
              "((60000, 28, 28), (60000,))"
            ]
          },
          "execution_count": 81,
          "metadata": {},
          "output_type": "execute_result"
        }
      ],
      "source": [
        "train_images.shape, train_labels.shape"
      ]
    },
    {
      "cell_type": "markdown",
      "metadata": {
        "id": "beTb7vqKc8Ui"
      },
      "source": [
        "- train_images: Contains grayscale images of fashion items (shape: (60000, 28, 28)).\n",
        "- train_labels: Contains labels for each image (values from 0 to 9)."
      ]
    },
    {
      "cell_type": "markdown",
      "metadata": {
        "id": "ZrrFtlJVdFPf"
      },
      "source": [
        "### Creating a Binary Classification Dataset"
      ]
    },
    {
      "cell_type": "code",
      "execution_count": 82,
      "metadata": {
        "id": "GhRErPAVdbn-"
      },
      "outputs": [],
      "source": [
        "sneaker_indices = np.where(train_labels == 7)[0] # extract Sneaker Images\n",
        "non_sneaker_indices = np.where(train_labels != 7)[0] # extract non-Sneaker Images\n"
      ]
    },
    {
      "cell_type": "code",
      "execution_count": 83,
      "metadata": {
        "colab": {
          "base_uri": "https://localhost:8080/",
          "height": 0
        },
        "id": "_HfjaNU81Deq",
        "outputId": "dfb00405-fcfb-4ff1-88f8-4ca963c467a5"
      },
      "outputs": [
        {
          "data": {
            "image/png": "[encoded data removed]",
            "text/plain": [
              "<Figure size 500x500 with 2 Axes>"
            ]
          },
          "metadata": {},
          "output_type": "display_data"
        }
      ],
      "source": [
        "# Plotting the first sneaker image\n",
        "plt.figure(figsize=(5,5))\n",
        "plt.subplot(1, 2, 1)\n",
        "plt.imshow(train_images[sneaker_indices[0]])\n",
        "\n",
        "# Plotting the first non-sneaker image\n",
        "plt.subplot(1, 2, 2)\n",
        "plt.imshow(train_images[non_sneaker_indices[50]])\n",
        "plt.title('Non-Sneaker')\n",
        "\n",
        "plt.show()"
      ]
    },
    {
      "cell_type": "code",
      "execution_count": 84,
      "metadata": {
        "id": "qKo75o3GiJ0y"
      },
      "outputs": [],
      "source": [
        "non_sneaker_sample_indices = np.random.choice(non_sneaker_indices, size=sneaker_indices.shape[0], replace=False)\n",
        "balanced_indices = np.concatenate([sneaker_indices, non_sneaker_sample_indices])\n",
        "\n",
        "# Balanced Dataset\n",
        "X_balanced = train_images[balanced_indices]\n",
        "y_balanced = train_labels[balanced_indices]\n",
        "y_balanced = np.where(y_balanced == 7, 1, 0)\n"
      ]
    },
    {
      "cell_type": "markdown",
      "metadata": {
        "id": "ma9sijJ7iwnf"
      },
      "source": [
        "### Splitting into Training and Testing Sets"
      ]
    },
    {
      "cell_type": "code",
      "execution_count": 85,
      "metadata": {
        "id": "I-o8sWs5i5WY"
      },
      "outputs": [],
      "source": [
        "# Spliting dataset using sklearn\n",
        "X_train, X_test, y_train, y_test = train_test_split(\n",
        "    X_balanced,\n",
        "    y_balanced,\n",
        "    test_size=0.2,\n",
        "    random_state=42,\n",
        "    stratify=y_balanced,\n",
        ")\n"
      ]
    },
    {
      "cell_type": "code",
      "execution_count": 86,
      "metadata": {
        "colab": {
          "base_uri": "https://localhost:8080/"
        },
        "id": "bXAWbz2WjHhc",
        "outputId": "afdbba84-c2dd-4d8a-a2b8-d3091bf72b7b"
      },
      "outputs": [
        {
          "data": {
            "text/plain": [
              "((9600, 28, 28), (2400, 28, 28), (9600,), (2400,))"
            ]
          },
          "execution_count": 86,
          "metadata": {},
          "output_type": "execute_result"
        }
      ],
      "source": [
        "X_train.shape, X_test.shape, y_train.shape, y_test.shape"
      ]
    },
    {
      "cell_type": "code",
      "execution_count": 87,
      "metadata": {
        "id": "wpK7Hr2ancT0"
      },
      "outputs": [],
      "source": [
        "train_x_flatten = X_train.reshape(X_train.shape[0], -1).T  # Shape: (784, 9600)\n",
        "test_x_flatten = X_test.reshape(X_test.shape[0], -1).T     # Shape: (784, 2400)\n",
        "\n",
        "train_x = train_x_flatten / 255.0\n",
        "test_x = test_x_flatten / 255.0\n",
        "\n",
        "y_train = y_train.reshape(1, -1)  # Shape: (1, 9600)\n",
        "y_test = y_test.reshape(1, -1)    # Shape: (1, 2400)\n",
        "\n"
      ]
    },
    {
      "cell_type": "code",
      "execution_count": 88,
      "metadata": {
        "colab": {
          "base_uri": "https://localhost:8080/"
        },
        "id": "d7xC60BD0jHw",
        "outputId": "111a4c28-2785-4937-b43a-4eb50eace762"
      },
      "outputs": [
        {
          "data": {
            "text/plain": [
              "((784, 9600), (784, 2400))"
            ]
          },
          "execution_count": 88,
          "metadata": {},
          "output_type": "execute_result"
        }
      ],
      "source": [
        "train_x.shape, test_x.shape"
      ]
    },
    {
      "cell_type": "markdown",
      "metadata": {
        "id": "m_qVzvkD4-wz"
      },
      "source": [
        "# 2. Parameter initialization"
      ]
    },
    {
      "cell_type": "code",
      "execution_count": 89,
      "metadata": {
        "id": "szW3CHINvdul"
      },
      "outputs": [],
      "source": [
        "def initialize_parameters(layer_dims):\n",
        "    np.random.seed(3)\n",
        "    parameters = {}\n",
        "    L = len(layer_dims)\n",
        "\n",
        "    for l in range(1, L):\n",
        "        parameters[\"W\" + str(l)] = (\n",
        "            np.random.randn(layer_dims[l], layer_dims[l - 1]) * 0.01\n",
        "        )\n",
        "        parameters[\"b\" + str(l)] = np.zeros((layer_dims[l], 1))\n",
        "\n",
        "    return parameters\n"
      ]
    },
    {
      "cell_type": "markdown",
      "metadata": {
        "id": "IlC4BUuFy6xa"
      },
      "source": [
        "Example :\n",
        "`layer_dims = [784, 5, 1]`\n",
        "- `W1`: Weight matrix of shape (5, 784), small random values.\n",
        "- `b1`: Bias vector of shape (5, 1), initialized to zeros.\n",
        "- `W2`: Weight matrix of shape (1, 5), small random values.\n",
        "- `b2`: Bias scalar, initialized to zero."
      ]
    },
    {
      "cell_type": "markdown",
      "metadata": {
        "id": "1nVprhLM4-30"
      },
      "source": [
        "# 3. Model Creation"
      ]
    },
    {
      "cell_type": "markdown",
      "metadata": {
        "id": "TGc-M3XX8xa-"
      },
      "source": [
        "##### Linear forward step"
      ]
    },
    {
      "cell_type": "code",
      "execution_count": 90,
      "metadata": {
        "id": "cCMTRtNDzgLs"
      },
      "outputs": [],
      "source": [
        "def linear_forward(A_prev, W, b):\n",
        "    Z = W.dot(A_prev) + b\n",
        "    cache = (A_prev, W, b)\n",
        "    return Z, cache\n"
      ]
    },
    {
      "cell_type": "markdown",
      "metadata": {
        "id": "1-SItSb48kKj"
      },
      "source": [
        "- `A_prev`: Activations from the previous layer.\n",
        "- `W`: Weights matrix.\n",
        "- `b`: Bias vector.\n",
        "- `Z`: Linear component before activation.\n"
      ]
    },
    {
      "cell_type": "markdown",
      "metadata": {
        "id": "_5zasb038_Is"
      },
      "source": [
        "##### Activation Functions"
      ]
    },
    {
      "cell_type": "code",
      "execution_count": 91,
      "metadata": {
        "id": "V2LQ-WfV8sLO"
      },
      "outputs": [],
      "source": [
        "def relu(Z):\n",
        "    A = np.maximum(0, Z)\n",
        "    cache = Z\n",
        "    return A, cache\n",
        "\n",
        "def sigmoid(Z):\n",
        "    A = 1 / (1 + np.exp(-Z))\n",
        "    cache = Z\n",
        "    return A, cache\n"
      ]
    },
    {
      "cell_type": "code",
      "execution_count": 92,
      "metadata": {
        "id": "kdyGvZ1o9TwO"
      },
      "outputs": [],
      "source": [
        "def linear_activation_forward(A_prev, W, b, activation):\n",
        "    Z, linear_cache = linear_forward(A_prev, W, b)\n",
        "\n",
        "    if activation == \"relu\":\n",
        "        A, activation_cache = relu(Z)\n",
        "    elif activation == \"sigmoid\":\n",
        "        A, activation_cache = sigmoid(Z)\n",
        "\n",
        "    cache = (linear_cache, activation_cache)\n",
        "\n",
        "    return A, cache\n"
      ]
    },
    {
      "cell_type": "markdown",
      "metadata": {
        "id": "XdOCPXtJ9pIN"
      },
      "source": [
        "#### Forward Propagation through layers"
      ]
    },
    {
      "cell_type": "code",
      "execution_count": 93,
      "metadata": {
        "id": "cntaw_0z9utO"
      },
      "outputs": [],
      "source": [
        "def L_model_forward(X, parameters):\n",
        "    caches = []\n",
        "    A = X\n",
        "    L = len(parameters) // 2\n",
        "\n",
        "    # Hidden layers with ReLU activation\n",
        "    for l in range(1, L):\n",
        "        A_prev = A\n",
        "        A, cache = linear_activation_forward(\n",
        "            A_prev, parameters[\"W\" + str(l)], parameters[\"b\" + str(l)], \"relu\"\n",
        "        )\n",
        "        caches.append(cache)\n",
        "\n",
        "    # Output layer with Sigmoid activation\n",
        "    AL, cache = linear_activation_forward(\n",
        "        A, parameters[\"W\" + str(L)], parameters[\"b\" + str(L)], \"sigmoid\"\n",
        "    )\n",
        "    caches.append(cache)\n",
        "\n",
        "    return AL, caches"
      ]
    },
    {
      "cell_type": "markdown",
      "metadata": {
        "id": "A6MP3kFc-ElJ"
      },
      "source": [
        "Simulation for NN with `[784, 5, 1]` layout:\n",
        "- Input `X`: Shape `(784, m)` where `m` is the number of examples.\n",
        "We take one example `(m = 1)` for simplicity.\n",
        "\n",
        "- Layer 1 :\n",
        "  - `A_prev(X)`: `Shape (784, 1)`.\n",
        "  - `W1`: `Shape (5, 784)`.\n",
        "  - `b1`: `Shape (5, 1)`.\n",
        "  - Compute `Z1` = `W1.dot(A_prev) + b1: Shape (5, 1)`.\n",
        "  - Apply ReLU: `A1 = relu(Z1): Shape (5, 1)`.\n",
        "\n",
        "- Layer 2:\n",
        "\n",
        "  - `A_prev(A1): Shape (5, 1)`.\n",
        "  - `W2: Shape (1, 5`).\n",
        "  - `b2: Scalar`.\n",
        "  - `Compute Z2 = W2.dot(A1) + b2: Shape (1, 1)`.\n",
        "  - Apply Sigmoid: `AL = sigmoid(Z2): Shape (1, 1)`.\n"
      ]
    },
    {
      "cell_type": "markdown",
      "metadata": {
        "id": "UwWPVsT9AhIJ"
      },
      "source": [
        "### Calculate Cost"
      ]
    },
    {
      "cell_type": "code",
      "execution_count": 94,
      "metadata": {
        "id": "dh1qeDcbAyN3"
      },
      "outputs": [],
      "source": [
        "def compute_cost(AL, Y):\n",
        "    m = Y.shape[1]\n",
        "    cost = (\n",
        "        -1\n",
        "        / m\n",
        "        * np.sum(\n",
        "            np.multiply(Y, np.log(AL)) + np.multiply(1 - Y, np.log(1 - AL))\n",
        "        )\n",
        "    )\n",
        "    cost = np.squeeze(cost)\n",
        "    return cost\n"
      ]
    },
    {
      "cell_type": "markdown",
      "metadata": {
        "id": "1cuBmQNnA1ZL"
      },
      "source": [
        "- Suppose `AL = [[0.8]]` (model's prediction).\n",
        "- True label `Y = [[1]]`.\n",
        "\n",
        "  ```\n",
        "  cost = - (1/m) * [Y * log(AL) + (1 - Y) * log(1 - AL)]\n",
        "       = - [1 * log(0.8) + 0 * log(0.2)]\n",
        "       = - log(0.8)\n",
        "       ≈ 0.223\n",
        "  ```\n"
      ]
    },
    {
      "cell_type": "markdown",
      "metadata": {
        "id": "l3wcbYaCBXbt"
      },
      "source": [
        "### Backward Propagation"
      ]
    },
    {
      "cell_type": "markdown",
      "metadata": {
        "id": "vBysAhDFB7gq"
      },
      "source": [
        "##### Activation Function Backward"
      ]
    },
    {
      "cell_type": "code",
      "execution_count": 95,
      "metadata": {
        "id": "zGAuEyfRCEJy"
      },
      "outputs": [],
      "source": [
        "def sigmoid_backward(dA, cache):\n",
        "    Z = cache\n",
        "    A = 1 / (1 + np.exp(-Z))\n",
        "    dZ = dA * A * (1 - A)\n",
        "    return dZ\n",
        "\n",
        "def relu_backward(dA, cache):\n",
        "    Z = cache\n",
        "    dZ = np.array(dA, copy=True)\n",
        "    dZ[Z <= 0] = 0\n",
        "    return dZ\n"
      ]
    },
    {
      "cell_type": "code",
      "execution_count": 96,
      "metadata": {
        "id": "vmvt1KshFtwa"
      },
      "outputs": [],
      "source": [
        "def linear_backward(dZ, cache):\n",
        "    A_prev, W, b = cache\n",
        "    m = A_prev.shape[1]\n",
        "\n",
        "    dW = 1 / m * dZ.dot(A_prev.T)\n",
        "    db = 1 / m * np.sum(dZ, axis=1, keepdims=True)\n",
        "    dA_prev = W.T.dot(dZ)\n",
        "\n",
        "    return dA_prev, dW, db\n"
      ]
    },
    {
      "cell_type": "markdown",
      "metadata": {
        "id": "-QzVQxnDBp5G"
      },
      "source": [
        "#### Linear Activation backward"
      ]
    },
    {
      "cell_type": "code",
      "execution_count": 97,
      "metadata": {
        "id": "7h_i4_SBBvNm"
      },
      "outputs": [],
      "source": [
        "def linear_activation_backward(dA, cache, activation):\n",
        "    linear_cache, activation_cache = cache\n",
        "\n",
        "    if activation == \"relu\":\n",
        "        dZ = relu_backward(dA, activation_cache)\n",
        "    elif activation == \"sigmoid\":\n",
        "        dZ = sigmoid_backward(dA, activation_cache)\n",
        "\n",
        "    dA_prev, dW, db = linear_backward(dZ, linear_cache)\n",
        "    return dA_prev, dW, db\n"
      ]
    },
    {
      "cell_type": "code",
      "execution_count": 98,
      "metadata": {
        "id": "1WakYe5nBiEB"
      },
      "outputs": [],
      "source": [
        "def L_model_backward(AL, Y, caches):\n",
        "    grads = {}\n",
        "    L = len(caches)\n",
        "    m = AL.shape[1]\n",
        "\n",
        "    # Compute derivative of AL\n",
        "    dAL = -(np.divide(Y, AL) - np.divide(1 - Y, 1 - AL))\n",
        "\n",
        "    # Backward for output layer (Sigmoid)\n",
        "    current_cache = caches[L - 1]\n",
        "    grads[\"dA\" + str(L - 1)], grads[\"dW\" + str(L)], grads[\"db\" + str(L)] = linear_activation_backward(dAL, current_cache, \"sigmoid\")\n",
        "\n",
        "    # Backward for hidden layers (ReLU)\n",
        "    for l in reversed(range(L - 1)):\n",
        "        current_cache = caches[l]\n",
        "        grads[\"dA\" + str(l)], grads[\"dW\" + str(l + 1)], grads[\"db\" + str(l + 1)] = linear_activation_backward(grads[\"dA\" + str(l + 1)], current_cache, \"relu\")\n",
        "\n",
        "    return grads\n"
      ]
    },
    {
      "cell_type": "markdown",
      "metadata": {
        "id": "wqB397qjGoWL"
      },
      "source": [
        "Simulation of Backprop :\n",
        "\n",
        "- Output Layer (Layer 2):\n",
        "\n",
        "Given:\n",
        "- `AL = [[0.8]]`\n",
        "- `Y = [[1]]`\n",
        "\n",
        "- Derivative of AL :\n",
        "  - `dAL = - (Y/AL - (1-Y)/(1-AL)) = - (1/0.8 - 0) = -1.25`\n",
        "\n",
        "Backward through Sigmoid Activation :\n",
        "  - `dZ2 = dAL * AL * (1 - AL) = -1.25 * 0.8 * 0.2 = -0.2`\n",
        "\n",
        "Linear Backward:\n",
        "- `A1`: From forward pass, shape `(5, 1)`. # Previous activation\n",
        "- `W2: Shape (1, 5).` # W of ouput\n",
        "- `dW2 = (1/m) * dZ2.dot(A1.T)`\n",
        "- `db2 = (1/m) * np.sum(dZ2)`\n",
        "- `dA1 = W2.T.dot(dZ2)`\n",
        "\n",
        "Hidden Layer (Layer 1):\n",
        "\n",
        "- Backward through ReLU Activation:\n",
        "- From `dA1` and `Z1`,\n",
        "  - compute `dZ1 = dA1 * (Z1 > 0)`\n",
        "- Linear Backward:\n",
        "  - `A0 (input X): Shape (784, 1).`\n",
        "  - `W1: Shape (5, 784).`\n",
        "  - `dW1 = (1/m) * dZ1.dot(A0.T)`\n",
        "  - `db1 = (1/m) * np.sum(dZ1, axis=1, keepdims=True)`\n",
        "  - `dA0 = W1.T.dot(dZ1) # we don't need this`\n",
        "\n",
        "Backprop Output :\n",
        "\n",
        "- For Each Layer:\n",
        "\t- `dA`: Gradient of the loss with respect to the activation for the layer.\n",
        "\t- `dZ`: Gradient of the loss with respect to the pre-activation output (Z).\n",
        "\t- `dW`: Gradient of the loss with respect to the weights.\n",
        "\t- `db`: Gradient of the loss with respect to the biases."
      ]
    },
    {
      "cell_type": "markdown",
      "metadata": {
        "id": "_x9UlR0DV-b2"
      },
      "source": [
        "#### Update Parameter :\n",
        "\n"
      ]
    },
    {
      "cell_type": "code",
      "execution_count": 99,
      "metadata": {
        "id": "hbEIyvE9WD9U"
      },
      "outputs": [],
      "source": [
        "def update_parameters(parameters, grads, learning_rate):\n",
        "    L = len(parameters) // 2\n",
        "\n",
        "    for l in range(1, L + 1):\n",
        "        parameters[\"W\" + str(l)] -= learning_rate * grads[\"dW\" + str(l)]\n",
        "        parameters[\"b\" + str(l)] -= learning_rate * grads[\"db\" + str(l)]\n",
        "\n",
        "    return parameters\n"
      ]
    },
    {
      "cell_type": "markdown",
      "metadata": {
        "id": "cK0O1tGI4_ui"
      },
      "source": [
        "# 4. Model Training"
      ]
    },
    {
      "cell_type": "code",
      "execution_count": 100,
      "metadata": {
        "id": "qGxRboFqWnE7"
      },
      "outputs": [],
      "source": [
        "def L_layer_model(\n",
        "    X,\n",
        "    Y,\n",
        "    layers_dims,\n",
        "    learning_rate=0.0075,\n",
        "    num_iterations=1000,\n",
        "    print_cost=False,\n",
        "):\n",
        "    np.random.seed(1)\n",
        "    costs = []\n",
        "    parameters = initialize_parameters(layers_dims)\n",
        "\n",
        "    for i in range(num_iterations):\n",
        "        # Forward Propagation\n",
        "        AL, caches = L_model_forward(X, parameters)\n",
        "\n",
        "        # Compute Cost\n",
        "        cost = compute_cost(AL, Y)\n",
        "\n",
        "        # Backward Propagation\n",
        "        grads = L_model_backward(AL, Y, caches)\n",
        "\n",
        "        # Update Parameters\n",
        "        parameters = update_parameters(parameters, grads, learning_rate)\n",
        "\n",
        "        # Print and store the cost\n",
        "        if print_cost and (i % 100 == 0 or i == num_iterations - 1):\n",
        "            print(f\"Cost after iteration {i}: {cost}\")\n",
        "        if i % 100 == 0 or i == num_iterations - 1:\n",
        "            costs.append(cost)\n",
        "\n",
        "    return parameters, costs\n"
      ]
    },
    {
      "cell_type": "code",
      "execution_count": 101,
      "metadata": {
        "id": "bxYpwZwf649P"
      },
      "outputs": [],
      "source": [
        "# Making the input size\n",
        "height, width = X_train.shape[1], X_train.shape[2]\n",
        "input_size = height * width\n",
        "\n",
        "\n",
        "layers_dims = [input_size, 5, 1]"
      ]
    },
    {
      "cell_type": "code",
      "execution_count": 102,
      "metadata": {
        "colab": {
          "base_uri": "https://localhost:8080/"
        },
        "id": "yQb5h8kWXlIz",
        "outputId": "fdeb7892-0cf1-4714-ba03-13af9bd46537"
      },
      "outputs": [
        {
          "name": "stdout",
          "output_type": "stream",
          "text": [
            "Cost after iteration 0: 0.6932697834842639\n",
            "Cost after iteration 100: 0.6906996080171036\n",
            "Cost after iteration 200: 0.66512952747064\n",
            "Cost after iteration 300: 0.5556943958187671\n",
            "Cost after iteration 400: 0.4596657696446482\n",
            "Cost after iteration 500: 0.4036907904210939\n",
            "Cost after iteration 600: 0.3615680752909119\n",
            "Cost after iteration 700: 0.28285201258070986\n",
            "Cost after iteration 800: 0.20112328362389398\n",
            "Cost after iteration 900: 0.17480688681755782\n",
            "Cost after iteration 999: 0.1632110658299695\n"
          ]
        }
      ],
      "source": [
        "\n",
        "parameters, costs = L_layer_model(\n",
        "    train_x,\n",
        "    y_train,\n",
        "    layers_dims,\n",
        "    num_iterations=1000,\n",
        "    learning_rate=0.01,\n",
        "    print_cost=True,\n",
        ")\n"
      ]
    },
    {
      "cell_type": "code",
      "execution_count": 103,
      "metadata": {
        "colab": {
          "base_uri": "https://localhost:8080/",
          "height": 472
        },
        "id": "J4aw8jnmXrnq",
        "outputId": "cba38a5a-bbcc-40fb-d45a-6f851320d49f"
      },
      "outputs": [
        {
          "data": {
            "image/png": "[encoded data removed]",
            "text/plain": [
              "<Figure size 640x480 with 1 Axes>"
            ]
          },
          "metadata": {},
          "output_type": "display_data"
        }
      ],
      "source": [
        "plt.plot(costs)\n",
        "plt.ylabel(\"Cost\")\n",
        "plt.xlabel(\"Iterations (per hundreds)\")\n",
        "plt.title(\"Learning rate = \" + str(0.01))\n",
        "plt.show()\n"
      ]
    },
    {
      "cell_type": "markdown",
      "metadata": {
        "id": "6W2gL_6p4--Q"
      },
      "source": [
        "# 5. Model Evaluation"
      ]
    },
    {
      "cell_type": "code",
      "execution_count": 104,
      "metadata": {
        "id": "ZRCedojAWZHd"
      },
      "outputs": [],
      "source": [
        "def predict(X, parameters):\n",
        "    AL, _ = L_model_forward(X, parameters)\n",
        "    predictions = (AL >= 0.5).astype(int)\n",
        "    return predictions\n"
      ]
    },
    {
      "cell_type": "code",
      "execution_count": 105,
      "metadata": {
        "colab": {
          "base_uri": "https://localhost:8080/"
        },
        "id": "Ptb_9htWWcmA",
        "outputId": "93f27f6e-1413-4ba4-9069-0c0dd9efd6c3"
      },
      "outputs": [
        {
          "name": "stdout",
          "output_type": "stream",
          "text": [
            "Train Accuracy: 93.95%\n",
            "Test Accuracy: 94.38%\n"
          ]
        }
      ],
      "source": [
        "# Training Accuracy\n",
        "train_predictions = predict(train_x, parameters)\n",
        "train_accuracy = np.mean(train_predictions == y_train) * 100\n",
        "\n",
        "# Testing Accuracy\n",
        "test_predictions = predict(test_x, parameters)\n",
        "test_accuracy = np.mean(test_predictions == y_test) * 100\n",
        "\n",
        "print(f\"Train Accuracy: {train_accuracy:.2f}%\")\n",
        "print(f\"Test Accuracy: {test_accuracy:.2f}%\")\n"
      ]
    },
    {
      "cell_type": "markdown",
      "metadata": {
        "id": "1JzGt85lZgZm"
      },
      "source": [
        "### Showing the ouput :"
      ]
    },
    {
      "cell_type": "code",
      "execution_count": 106,
      "metadata": {
        "id": "wg15BQ5QcP2V"
      },
      "outputs": [],
      "source": [
        "image_shape = (28, 28)\n",
        "\n",
        "# Number of images to display\n",
        "num_images_to_display = 5\n",
        "\n",
        "# Select some random indices for displaying training and testing images\n",
        "train_indices = np.random.choice(X_train.shape[0], num_images_to_display, replace=False)\n",
        "test_indices = np.random.choice(X_test.shape[0], num_images_to_display, replace=False)\n",
        "\n"
      ]
    },
    {
      "cell_type": "code",
      "execution_count": null,
      "metadata": {
        "id": "yUXxch73Z2YS"
      },
      "outputs": [],
      "source": [
        "def display_images(indices, X_data, y_data, predictions, image_shape, num_images, title_prefix):\n",
        "    for i, idx in enumerate(indices):\n",
        "        plt.subplot(2, num_images, i + 1)\n",
        "        image = X_data[idx].reshape(image_shape)  # Reshape the image for display\n",
        "        plt.imshow(image)\n",
        "        plt.title(f\"{title_prefix}: Pred {predictions[0, idx]}, Actual {y_data[0, idx]}\")\n",
        "        plt.axis('off')"
      ]
    },
    {
      "cell_type": "code",
      "execution_count": 107,
      "metadata": {
        "colab": {
          "base_uri": "https://localhost:8080/",
          "height": 262
        },
        "id": "s234EzlRHJcn",
        "outputId": "41c5dfe7-16f3-46d0-e4ed-6ad99efe0fc7"
      },
      "outputs": [
        {
          "data": {
            "image/png": "[encoded data removed]",
            "text/plain": [
              "<Figure size 1500x500 with 5 Axes>"
            ]
          },
          "metadata": {},
          "output_type": "display_data"
        }
      ],
      "source": [
        "# Display training and testing data predictions\n",
        "plt.figure(figsize=(15, 5))\n",
        "\n",
        "# Displaying training images\n",
        "display_images(train_indices, X_train, y_train, train_predictions, image_shape, num_images_to_display, 'Train')\n",
        "\n",
        "plt.suptitle(\"Training Data Predictions\")\n",
        "plt.show()"
      ]
    },
    {
      "cell_type": "code",
      "execution_count": 109,
      "metadata": {
        "colab": {
          "base_uri": "https://localhost:8080/",
          "height": 262
        },
        "id": "CV0WElAvHf8k",
        "outputId": "b8ea2c39-a35f-4411-8160-7efefa1bd2fb"
      },
      "outputs": [
        {
          "data": {
            "image/png": "[encoded data removed]",
            "text/plain": [
              "<Figure size 1500x500 with 5 Axes>"
            ]
          },
          "metadata": {},
          "output_type": "display_data"
        }
      ],
      "source": [
        "plt.figure(figsize=(15, 5))\n",
        "\n",
        "# Displaying testing images\n",
        "display_images(test_indices, X_test, y_test, test_predictions, image_shape, num_images_to_display, 'Test')\n",
        "\n",
        "\n",
        "plt.suptitle(\"Test Data Predictions\")\n",
        "plt.show()"
      ]
    },
    {
      "cell_type": "markdown",
      "metadata": {
        "id": "kRt38GfS4_6Z"
      },
      "source": []
    }
  ],
  "metadata": {
    "accelerator": "GPU",
    "colab": {
      "gpuType": "T4",
      "provenance": []
    },
    "kernelspec": {
      "display_name": "Python 3",
      "name": "python3"
    },
    "language_info": {
      "name": "python"
    }
  },
  "nbformat": 4,
  "nbformat_minor": 0
}
