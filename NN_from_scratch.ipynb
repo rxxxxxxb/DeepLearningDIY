{
  "nbformat": 4,
  "nbformat_minor": 0,
  "metadata": {
    "colab": {
      "provenance": []
    },
    "kernelspec": {
      "name": "python3",
      "display_name": "Python 3"
    },
    "language_info": {
      "name": "python"
    }
  },
  "cells": [
    {
      "cell_type": "markdown",
      "source": [
        "## Overview :\n",
        "This is an implementation of a deep neural network from scratch to classify images from the Fashion MNIST dataset as either \"sneaker\" (label 1) or \"non-sneaker\" (label 0)."
      ],
      "metadata": {
        "id": "-wSR0C5z3yzH"
      }
    },
    {
      "cell_type": "code",
      "execution_count": null,
      "metadata": {
        "id": "19x-lnp_2N8V"
      },
      "outputs": [],
      "source": [
        "import numpy as np\n",
        "import matplotlib.pyplot as plt\n",
        "from tensorflow.keras.datasets import fashion_mnist\n",
        "from sklearn.model_selection import train_test_split"
      ]
    },
    {
      "cell_type": "markdown",
      "source": [
        "## 1. Data Loading and Preprocessing\n"
      ],
      "metadata": {
        "id": "Ev8Nmg-447EI"
      }
    },
    {
      "cell_type": "code",
      "source": [
        "(train_images, train_labels), _ = fashion_mnist.load_data()\n"
      ],
      "metadata": {
        "id": "FlrTmUAGclv9"
      },
      "execution_count": null,
      "outputs": []
    },
    {
      "cell_type": "code",
      "source": [
        "train_images.shape, train_labels.shape"
      ],
      "metadata": {
        "colab": {
          "base_uri": "https://localhost:8080/"
        },
        "id": "yAQfTJWJcxRv",
        "outputId": "551a8d0d-92fb-4ad2-e5eb-07ed6b968dce"
      },
      "execution_count": null,
      "outputs": [
        {
          "output_type": "execute_result",
          "data": {
            "text/plain": [
              "((60000, 28, 28), (60000,))"
            ]
          },
          "metadata": {},
          "execution_count": 8
        }
      ]
    },
    {
      "cell_type": "markdown",
      "source": [
        "- train_images: Contains grayscale images of fashion items (shape: (60000, 28, 28)).\n",
        "- train_labels: Contains labels for each image (values from 0 to 9)."
      ],
      "metadata": {
        "id": "beTb7vqKc8Ui"
      }
    },
    {
      "cell_type": "markdown",
      "source": [
        "### Creating a Binary Classification Dataset"
      ],
      "metadata": {
        "id": "ZrrFtlJVdFPf"
      }
    },
    {
      "cell_type": "code",
      "source": [
        "sneaker_indices = np.where(train_labels == 7)[0] # extract Sneaker Images\n",
        "non_sneaker_indices = np.where(train_labels != 7)[0] # extract non-Sneaker Images\n"
      ],
      "metadata": {
        "id": "GhRErPAVdbn-"
      },
      "execution_count": null,
      "outputs": []
    },
    {
      "cell_type": "code",
      "source": [
        "# Plotting the first sneaker image\n",
        "plt.figure(figsize=(5,5))\n",
        "plt.subplot(1, 2, 1)\n",
        "plt.imshow(train_images[sneaker_indices[0]])\n",
        "\n",
        "# Plotting the first non-sneaker image\n",
        "plt.subplot(1, 2, 2)\n",
        "plt.imshow(train_images[non_sneaker_indices[50]])\n",
        "plt.title('Non-Sneaker')\n",
        "\n",
        "plt.show()"
      ],
      "metadata": {
        "colab": {
          "base_uri": "https://localhost:8080/",
          "height": 259
        },
        "id": "_HfjaNU81Deq",
        "outputId": "699db0db-6d21-4944-af82-e601c1828795"
      },
      "execution_count": null,
      "outputs": [
        {
          "output_type": "display_data",
          "data": {
            "text/plain": [
              "<Figure size 500x500 with 2 Axes>"
            ],
            "image/png": "[encoded data removed]"
          },
          "metadata": {}
        }
      ]
    },
    {
      "cell_type": "code",
      "source": [
        "non_sneaker_sample_indices = np.random.choice(non_sneaker_indices, size=sneaker_indices.shape[0], replace=False)\n",
        "balanced_indices = np.concatenate([sneaker_indices, non_sneaker_sample_indices])\n",
        "\n",
        "# Balanced Dataset\n",
        "X_balanced = train_images[balanced_indices]\n",
        "y_balanced = train_labels[balanced_indices]\n",
        "y_balanced = np.where(y_balanced == 7, 1, 0)\n"
      ],
      "metadata": {
        "id": "qKo75o3GiJ0y"
      },
      "execution_count": null,
      "outputs": []
    },
    {
      "cell_type": "markdown",
      "source": [
        "### Splitting into Training and Testing Sets"
      ],
      "metadata": {
        "id": "ma9sijJ7iwnf"
      }
    },
    {
      "cell_type": "code",
      "source": [
        "# Spliting dataset using sklearn\n",
        "X_train, X_test, y_train, y_test = train_test_split(\n",
        "    X_balanced,\n",
        "    y_balanced,\n",
        "    test_size=0.2,\n",
        "    random_state=42,\n",
        "    stratify=y_balanced,\n",
        ")\n"
      ],
      "metadata": {
        "id": "I-o8sWs5i5WY"
      },
      "execution_count": null,
      "outputs": []
    },
    {
      "cell_type": "code",
      "source": [
        "X_train.shape, X_test.shape, y_train.shape, y_test.shape"
      ],
      "metadata": {
        "colab": {
          "base_uri": "https://localhost:8080/"
        },
        "id": "bXAWbz2WjHhc",
        "outputId": "e00f78c1-eaa1-42ad-c8bd-b98f73cd4615"
      },
      "execution_count": null,
      "outputs": [
        {
          "output_type": "execute_result",
          "data": {
            "text/plain": [
              "((9600, 28, 28), (2400, 28, 28), (9600,), (2400,))"
            ]
          },
          "metadata": {},
          "execution_count": 12
        }
      ]
    },
    {
      "cell_type": "code",
      "source": [
        "train_x_flatten = X_train.reshape(X_train.shape[0], -1).T  # Shape: (784, 9600)\n",
        "test_x_flatten = X_test.reshape(X_test.shape[0], -1).T     # Shape: (784, 2400)\n",
        "\n",
        "train_x = train_x_flatten / 255.0\n",
        "test_x = test_x_flatten / 255.0\n",
        "\n",
        "y_train = y_train.reshape(1, -1)  # Shape: (1, 9600)\n",
        "y_test = y_test.reshape(1, -1)    # Shape: (1, 2400)\n",
        "\n"
      ],
      "metadata": {
        "id": "wpK7Hr2ancT0"
      },
      "execution_count": null,
      "outputs": []
    },
    {
      "cell_type": "code",
      "source": [
        "train_x[0].shape"
      ],
      "metadata": {
        "colab": {
          "base_uri": "https://localhost:8080/"
        },
        "id": "d7xC60BD0jHw",
        "outputId": "31127de9-7989-49ba-dc52-2f1ccff265f1"
      },
      "execution_count": null,
      "outputs": [
        {
          "output_type": "execute_result",
          "data": {
            "text/plain": [
              "()"
            ]
          },
          "metadata": {},
          "execution_count": 16
        }
      ]
    },
    {
      "cell_type": "markdown",
      "source": [
        "## 2. Parameter initialization"
      ],
      "metadata": {
        "id": "m_qVzvkD4-wz"
      }
    },
    {
      "cell_type": "markdown",
      "source": [
        "## 3. Model Creation"
      ],
      "metadata": {
        "id": "1nVprhLM4-30"
      }
    },
    {
      "cell_type": "markdown",
      "source": [
        "## 4. Model Training"
      ],
      "metadata": {
        "id": "cK0O1tGI4_ui"
      }
    },
    {
      "cell_type": "markdown",
      "source": [
        "## 5. Model Evaluation"
      ],
      "metadata": {
        "id": "6W2gL_6p4--Q"
      }
    },
    {
      "cell_type": "markdown",
      "source": [],
      "metadata": {
        "id": "kRt38GfS4_6Z"
      }
    }
  ]
}